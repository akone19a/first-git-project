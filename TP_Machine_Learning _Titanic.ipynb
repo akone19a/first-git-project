{
 "cells": [
  {
   "cell_type": "markdown",
   "metadata": {},
   "source": [
    "<h1 style=\"text-align: center;\" markdown=\"1\"> TRAVAUX PRATIQUE </h1> \n",
    "<h2 style=\"text-align: center;\" markdown=\"2\"> Machine Learning Python </h2> \n",
    "<h3 style=\"text-align: center;\" markdown=\"2\"> Survived Prediction </h3> "
   ]
  },
  {
   "cell_type": "code",
   "execution_count": null,
   "metadata": {},
   "outputs": [],
   "source": [
    "import xgboost as xgb"
   ]
  },
  {
   "cell_type": "raw",
   "metadata": {},
   "source": [
    "OBJECTIF ETUDE\n",
    "---------------\n",
    "\n",
    "Dans cette etude, nous menerons une modelisation de predition de survived sur une base de donnée de Titanic .\n",
    "Notre etude consistera a charger les données, les nettoyées, puis faire la modelisation en evaluant les performances des models utilsés par l'influence de certaines variables additionnelle.\n",
    "Le critere de performance utlisé sont accurancy."
   ]
  },
  {
   "cell_type": "markdown",
   "metadata": {},
   "source": [
    "### import package"
   ]
  },
  {
   "cell_type": "code",
   "execution_count": 148,
   "metadata": {},
   "outputs": [
    {
     "name": "stdout",
     "output_type": "stream",
     "text": [
      "The autoreload extension is already loaded. To reload it, use:\n",
      "  %reload_ext autoreload\n"
     ]
    }
   ],
   "source": [
    "%matplotlib inline\n",
    "\n",
    "%load_ext autoreload\n",
    "%autoreload 2\n",
    "\n",
    "\n",
    "# data manipulation\n",
    "import numpy as np\n",
    "import pandas as pd\n",
    "\n",
    "# data visualization\n",
    "import sklearn.metrics as sm\n",
    "import matplotlib.pyplot as plt\n",
    "from sklearn import linear_model\n",
    "from sklearn import datasets\n",
    "from matplotlib import pyplot as plt\n",
    "from IPython.display import display\n",
    "import seaborn as sns\n",
    "import os\n",
    "sns.set()\n",
    "\n",
    "# filter warnings\n",
    "import warnings\n",
    "warnings.filterwarnings('ignore')"
   ]
  },
  {
   "cell_type": "code",
   "execution_count": null,
   "metadata": {},
   "outputs": [],
   "source": []
  },
  {
   "cell_type": "markdown",
   "metadata": {},
   "source": [
    "## Chargement des données"
   ]
  },
  {
   "cell_type": "code",
   "execution_count": 149,
   "metadata": {},
   "outputs": [],
   "source": [
    "path = \"Data/train.csv\"\n",
    "path_test = \"Data/test.csv\"\n",
    "data_train = pd.read_csv(path, sep=\",\", index_col=\"PassengerId\")\n",
    "data_test = pd.read_csv(path_test, sep=\",\", index_col=0)"
   ]
  },
  {
   "cell_type": "code",
   "execution_count": 17,
   "metadata": {},
   "outputs": [
    {
     "data": {
      "text/html": [
       "<div>\n",
       "<style scoped>\n",
       "    .dataframe tbody tr th:only-of-type {\n",
       "        vertical-align: middle;\n",
       "    }\n",
       "\n",
       "    .dataframe tbody tr th {\n",
       "        vertical-align: top;\n",
       "    }\n",
       "\n",
       "    .dataframe thead th {\n",
       "        text-align: right;\n",
       "    }\n",
       "</style>\n",
       "<table border=\"1\" class=\"dataframe\">\n",
       "  <thead>\n",
       "    <tr style=\"text-align: right;\">\n",
       "      <th></th>\n",
       "      <th>Survived</th>\n",
       "      <th>Pclass</th>\n",
       "      <th>Name</th>\n",
       "      <th>Sex</th>\n",
       "      <th>Age</th>\n",
       "      <th>SibSp</th>\n",
       "      <th>Parch</th>\n",
       "      <th>Ticket</th>\n",
       "      <th>Fare</th>\n",
       "      <th>Cabin</th>\n",
       "      <th>Embarked</th>\n",
       "    </tr>\n",
       "    <tr>\n",
       "      <th>PassengerId</th>\n",
       "      <th></th>\n",
       "      <th></th>\n",
       "      <th></th>\n",
       "      <th></th>\n",
       "      <th></th>\n",
       "      <th></th>\n",
       "      <th></th>\n",
       "      <th></th>\n",
       "      <th></th>\n",
       "      <th></th>\n",
       "      <th></th>\n",
       "    </tr>\n",
       "  </thead>\n",
       "  <tbody>\n",
       "    <tr>\n",
       "      <th>1</th>\n",
       "      <td>0</td>\n",
       "      <td>3</td>\n",
       "      <td>Braund, Mr. Owen Harris</td>\n",
       "      <td>male</td>\n",
       "      <td>22.0</td>\n",
       "      <td>1</td>\n",
       "      <td>0</td>\n",
       "      <td>A/5 21171</td>\n",
       "      <td>7.2500</td>\n",
       "      <td>B96 B98</td>\n",
       "      <td>S</td>\n",
       "    </tr>\n",
       "    <tr>\n",
       "      <th>2</th>\n",
       "      <td>1</td>\n",
       "      <td>1</td>\n",
       "      <td>Cumings, Mrs. John Bradley (Florence Briggs Th...</td>\n",
       "      <td>female</td>\n",
       "      <td>38.0</td>\n",
       "      <td>1</td>\n",
       "      <td>0</td>\n",
       "      <td>PC 17599</td>\n",
       "      <td>71.2833</td>\n",
       "      <td>C85</td>\n",
       "      <td>C</td>\n",
       "    </tr>\n",
       "    <tr>\n",
       "      <th>3</th>\n",
       "      <td>1</td>\n",
       "      <td>3</td>\n",
       "      <td>Heikkinen, Miss. Laina</td>\n",
       "      <td>female</td>\n",
       "      <td>26.0</td>\n",
       "      <td>0</td>\n",
       "      <td>0</td>\n",
       "      <td>STON/O2. 3101282</td>\n",
       "      <td>7.9250</td>\n",
       "      <td>B96 B98</td>\n",
       "      <td>S</td>\n",
       "    </tr>\n",
       "    <tr>\n",
       "      <th>4</th>\n",
       "      <td>1</td>\n",
       "      <td>1</td>\n",
       "      <td>Futrelle, Mrs. Jacques Heath (Lily May Peel)</td>\n",
       "      <td>female</td>\n",
       "      <td>35.0</td>\n",
       "      <td>1</td>\n",
       "      <td>0</td>\n",
       "      <td>113803</td>\n",
       "      <td>53.1000</td>\n",
       "      <td>C123</td>\n",
       "      <td>S</td>\n",
       "    </tr>\n",
       "    <tr>\n",
       "      <th>5</th>\n",
       "      <td>0</td>\n",
       "      <td>3</td>\n",
       "      <td>Allen, Mr. William Henry</td>\n",
       "      <td>male</td>\n",
       "      <td>35.0</td>\n",
       "      <td>0</td>\n",
       "      <td>0</td>\n",
       "      <td>373450</td>\n",
       "      <td>8.0500</td>\n",
       "      <td>B96 B98</td>\n",
       "      <td>S</td>\n",
       "    </tr>\n",
       "  </tbody>\n",
       "</table>\n",
       "</div>"
      ],
      "text/plain": [
       "             Survived  Pclass  \\\n",
       "PassengerId                     \n",
       "1                   0       3   \n",
       "2                   1       1   \n",
       "3                   1       3   \n",
       "4                   1       1   \n",
       "5                   0       3   \n",
       "\n",
       "                                                          Name     Sex   Age  \\\n",
       "PassengerId                                                                    \n",
       "1                                      Braund, Mr. Owen Harris    male  22.0   \n",
       "2            Cumings, Mrs. John Bradley (Florence Briggs Th...  female  38.0   \n",
       "3                                       Heikkinen, Miss. Laina  female  26.0   \n",
       "4                 Futrelle, Mrs. Jacques Heath (Lily May Peel)  female  35.0   \n",
       "5                                     Allen, Mr. William Henry    male  35.0   \n",
       "\n",
       "             SibSp  Parch            Ticket     Fare    Cabin Embarked  \n",
       "PassengerId                                                             \n",
       "1                1      0         A/5 21171   7.2500  B96 B98        S  \n",
       "2                1      0          PC 17599  71.2833      C85        C  \n",
       "3                0      0  STON/O2. 3101282   7.9250  B96 B98        S  \n",
       "4                1      0            113803  53.1000     C123        S  \n",
       "5                0      0            373450   8.0500  B96 B98        S  "
      ]
     },
     "execution_count": 17,
     "metadata": {},
     "output_type": "execute_result"
    }
   ],
   "source": [
    "data_train.head()"
   ]
  },
  {
   "cell_type": "code",
   "execution_count": 4,
   "metadata": {},
   "outputs": [
    {
     "name": "stdout",
     "output_type": "stream",
     "text": [
      "Nombre de ligne de la base :  891\n",
      "Nombre de colonne de la base :  11\n"
     ]
    }
   ],
   "source": [
    "print(\"Nombre de ligne de la base : \", data_train.shape[0])\n",
    "print(\"Nombre de colonne de la base : \" ,data_train.shape[1])"
   ]
  },
  {
   "cell_type": "code",
   "execution_count": 5,
   "metadata": {},
   "outputs": [
    {
     "data": {
      "text/plain": [
       "Index(['Survived', 'Pclass', 'Name', 'Sex', 'Age', 'SibSp', 'Parch', 'Ticket',\n",
       "       'Fare', 'Cabin', 'Embarked'],\n",
       "      dtype='object')"
      ]
     },
     "execution_count": 5,
     "metadata": {},
     "output_type": "execute_result"
    }
   ],
   "source": [
    "data_train.columns"
   ]
  },
  {
   "cell_type": "code",
   "execution_count": 19,
   "metadata": {},
   "outputs": [
    {
     "data": {
      "text/plain": [
       "Survived      int64\n",
       "Pclass        int64\n",
       "Name         object\n",
       "Sex          object\n",
       "Age         float64\n",
       "SibSp         int64\n",
       "Parch         int64\n",
       "Ticket       object\n",
       "Fare        float64\n",
       "Cabin        object\n",
       "Embarked     object\n",
       "dtype: object"
      ]
     },
     "execution_count": 19,
     "metadata": {},
     "output_type": "execute_result"
    }
   ],
   "source": [
    "data_train.dtypes \n",
    "#data_train.count()"
   ]
  },
  {
   "cell_type": "code",
   "execution_count": 20,
   "metadata": {},
   "outputs": [
    {
     "data": {
      "text/plain": [
       "Embarked    0\n",
       "Cabin       0\n",
       "Fare        0\n",
       "Ticket      0\n",
       "Parch       0\n",
       "SibSp       0\n",
       "Age         0\n",
       "Sex         0\n",
       "Name        0\n",
       "Pclass      0\n",
       "Survived    0\n",
       "dtype: int64"
      ]
     },
     "execution_count": 20,
     "metadata": {},
     "output_type": "execute_result"
    }
   ],
   "source": [
    "#Donnée Manquantes\n",
    "data_train.isna().sum().sort_values(ascending=False)"
   ]
  },
  {
   "cell_type": "code",
   "execution_count": 21,
   "metadata": {},
   "outputs": [
    {
     "name": "stdout",
     "output_type": "stream",
     "text": [
      "les propotions des survivant et non survivants\n"
     ]
    },
    {
     "data": {
      "text/plain": [
       "0    0.616162\n",
       "1    0.383838\n",
       "Name: Survived, dtype: float64"
      ]
     },
     "execution_count": 21,
     "metadata": {},
     "output_type": "execute_result"
    }
   ],
   "source": [
    "#Survivant\n",
    "print(\"les propotions des survivant et non survivants\")\n",
    "data_train[\"Survived\"].value_counts(normalize=True)"
   ]
  },
  {
   "cell_type": "markdown",
   "metadata": {},
   "source": [
    "##  Data Processing "
   ]
  },
  {
   "cell_type": "markdown",
   "metadata": {},
   "source": [
    "## Imputer les valeur manquantes"
   ]
  },
  {
   "cell_type": "code",
   "execution_count": 24,
   "metadata": {},
   "outputs": [],
   "source": [
    "def Imput_ValeurManquate ( Data, columns_Num, columns_Cat, Imput_Num= \"median\", \n",
    "                          Imput_Cat= \"Mode\" ) :\n",
    "    for col in columns_Num :\n",
    "        if Imput_Num == \"median\" :\n",
    "            Change = np.median(Data[col].dropna()) \n",
    "        else:  \n",
    "            Change = int(Imput_Num)\n",
    "        Data[col] = Data[col].fillna(Change)\n",
    "    for col in columns_Cat :\n",
    "        if Imput_Cat == \"Mode\" :\n",
    "            Change = str(Data[col].mode()[0])\n",
    "        else:  \n",
    "            Change = str(Imput_Cat)\n",
    "        Data[col] = Data[col].fillna(Change)\n",
    "    return(Data)    "
   ]
  },
  {
   "cell_type": "code",
   "execution_count": 25,
   "metadata": {},
   "outputs": [],
   "source": [
    "data_without_na = Imput_ValeurManquate(data_train, [\"Age\"], [\"Cabin\", \"Embarked\"]  )\n",
    "assert list(data_without_na.isnull().sum() ) == [0]*data_without_na .shape[1]"
   ]
  },
  {
   "cell_type": "code",
   "execution_count": 26,
   "metadata": {},
   "outputs": [
    {
     "data": {
      "text/plain": [
       "(891, 11)"
      ]
     },
     "execution_count": 26,
     "metadata": {},
     "output_type": "execute_result"
    }
   ],
   "source": [
    "data_without_na.shape"
   ]
  },
  {
   "cell_type": "markdown",
   "metadata": {},
   "source": [
    "##  Caster les variables"
   ]
  },
  {
   "cell_type": "code",
   "execution_count": null,
   "metadata": {},
   "outputs": [],
   "source": [
    "def "
   ]
  },
  {
   "cell_type": "markdown",
   "metadata": {},
   "source": [
    "## choix des variables"
   ]
  },
  {
   "cell_type": "code",
   "execution_count": 28,
   "metadata": {},
   "outputs": [],
   "source": [
    "#cible et choix colonnes \n",
    "def DataModel(features , Data , label) :\n",
    "    Train = Data[features]\n",
    "    if label in Data.columns :\n",
    "        label = Data[label]\n",
    "        return Train, label\n",
    "        \n",
    "    return Train\n",
    "    "
   ]
  },
  {
   "cell_type": "code",
   "execution_count": 34,
   "metadata": {},
   "outputs": [
    {
     "data": {
      "text/html": [
       "<div>\n",
       "<style scoped>\n",
       "    .dataframe tbody tr th:only-of-type {\n",
       "        vertical-align: middle;\n",
       "    }\n",
       "\n",
       "    .dataframe tbody tr th {\n",
       "        vertical-align: top;\n",
       "    }\n",
       "\n",
       "    .dataframe thead th {\n",
       "        text-align: right;\n",
       "    }\n",
       "</style>\n",
       "<table border=\"1\" class=\"dataframe\">\n",
       "  <thead>\n",
       "    <tr style=\"text-align: right;\">\n",
       "      <th></th>\n",
       "      <th>SibSp</th>\n",
       "      <th>Parch</th>\n",
       "      <th>Fare</th>\n",
       "    </tr>\n",
       "    <tr>\n",
       "      <th>PassengerId</th>\n",
       "      <th></th>\n",
       "      <th></th>\n",
       "      <th></th>\n",
       "    </tr>\n",
       "  </thead>\n",
       "  <tbody>\n",
       "    <tr>\n",
       "      <th>1</th>\n",
       "      <td>1</td>\n",
       "      <td>0</td>\n",
       "      <td>7.2500</td>\n",
       "    </tr>\n",
       "    <tr>\n",
       "      <th>2</th>\n",
       "      <td>1</td>\n",
       "      <td>0</td>\n",
       "      <td>71.2833</td>\n",
       "    </tr>\n",
       "    <tr>\n",
       "      <th>3</th>\n",
       "      <td>0</td>\n",
       "      <td>0</td>\n",
       "      <td>7.9250</td>\n",
       "    </tr>\n",
       "    <tr>\n",
       "      <th>4</th>\n",
       "      <td>1</td>\n",
       "      <td>0</td>\n",
       "      <td>53.1000</td>\n",
       "    </tr>\n",
       "    <tr>\n",
       "      <th>5</th>\n",
       "      <td>0</td>\n",
       "      <td>0</td>\n",
       "      <td>8.0500</td>\n",
       "    </tr>\n",
       "  </tbody>\n",
       "</table>\n",
       "</div>"
      ],
      "text/plain": [
       "             SibSp  Parch     Fare\n",
       "PassengerId                       \n",
       "1                1      0   7.2500\n",
       "2                1      0  71.2833\n",
       "3                0      0   7.9250\n",
       "4                1      0  53.1000\n",
       "5                0      0   8.0500"
      ]
     },
     "execution_count": 34,
     "metadata": {},
     "output_type": "execute_result"
    }
   ],
   "source": [
    "#Train\n",
    "feature = ['SibSp','Parch', 'Fare' ]\n",
    "Data= data_without_na\n",
    "Label = \"Survived\"\n",
    "X, y = DataModel (feature, Data, Label)\n",
    "X.head() "
   ]
  },
  {
   "cell_type": "markdown",
   "metadata": {},
   "source": [
    "# Baase line"
   ]
  },
  {
   "cell_type": "markdown",
   "metadata": {},
   "source": [
    "## Modèle:Regression Logistic "
   ]
  },
  {
   "cell_type": "markdown",
   "metadata": {
    "collapsed": true
   },
   "source": [
    "**Verification de la pertinance du Model**\n",
    "\n",
    "Nous comparerons le score de la cross validation et la moyenne des scores sur des echantilllons de taille differentes.\n",
    "Ceci nous permet de s'assurer que le model est approprié a la donnée, nous evitons ainsi le overfiting."
   ]
  },
  {
   "cell_type": "code",
   "execution_count": 38,
   "metadata": {},
   "outputs": [],
   "source": [
    "from sklearn.model_selection import train_test_split\n",
    "X_train, X_test,y_train, y_test = train_test_split(X, y, test_size=0.2, random_state=42)"
   ]
  },
  {
   "cell_type": "code",
   "execution_count": 42,
   "metadata": {},
   "outputs": [],
   "source": [
    "#construction du model\n",
    "lr = linear_model.LogisticRegression(random_state=42)"
   ]
  },
  {
   "cell_type": "code",
   "execution_count": 43,
   "metadata": {},
   "outputs": [
    {
     "data": {
      "text/plain": [
       "LogisticRegression(random_state=42)"
      ]
     },
     "execution_count": 43,
     "metadata": {},
     "output_type": "execute_result"
    }
   ],
   "source": [
    "#Apprentissage du model\n",
    "lr.fit(X_train, y_train)"
   ]
  },
  {
   "cell_type": "code",
   "execution_count": 44,
   "metadata": {},
   "outputs": [],
   "source": [
    "#Prediction du model\n",
    "ypred = lr.predict(X_test)"
   ]
  },
  {
   "cell_type": "code",
   "execution_count": 46,
   "metadata": {},
   "outputs": [
    {
     "name": "stdout",
     "output_type": "stream",
     "text": [
      "le score d'entrainement: 67.28%\n"
     ]
    }
   ],
   "source": [
    "## Score\n",
    "from sklearn import metrics\n",
    "score = lr.score(X_train, y_train)\n",
    "print(\"le score d'entrainement: {:0.2%}\".format(score))\n"
   ]
  },
  {
   "cell_type": "code",
   "execution_count": 47,
   "metadata": {},
   "outputs": [
    {
     "name": "stdout",
     "output_type": "stream",
     "text": [
      "le score en test: 65.92%\n"
     ]
    }
   ],
   "source": [
    "# Score test \n",
    "score =Reg_Log.score(X_test, y_test)\n",
    "print(\"le score en test: {:0.2%}\".format(score))"
   ]
  },
  {
   "cell_type": "markdown",
   "metadata": {},
   "source": [
    "# validation croisée"
   ]
  },
  {
   "cell_type": "code",
   "execution_count": 56,
   "metadata": {},
   "outputs": [],
   "source": [
    "#Cross validation\n",
    "from sklearn.model_selection import cross_val_score\n"
   ]
  },
  {
   "cell_type": "code",
   "execution_count": 58,
   "metadata": {},
   "outputs": [],
   "source": [
    "scores = cross_val_score(lr, X, y, cv=5, n_jobs=1)"
   ]
  },
  {
   "cell_type": "code",
   "execution_count": 59,
   "metadata": {},
   "outputs": [
    {
     "name": "stdout",
     "output_type": "stream",
     "text": [
      "average score: 0.67\n"
     ]
    }
   ],
   "source": [
    "#print('scores:', scores)\n",
    "print('average score: %.2f'%np.mean(scores))"
   ]
  },
  {
   "cell_type": "markdown",
   "metadata": {},
   "source": [
    "## Etude  des variables"
   ]
  },
  {
   "cell_type": "code",
   "execution_count": 60,
   "metadata": {},
   "outputs": [],
   "source": [
    "survived = data_without_na[data_without_na.Survived == 1]\n",
    "dead = data_without_na[data_without_na.Survived == 0]"
   ]
  },
  {
   "cell_type": "code",
   "execution_count": 65,
   "metadata": {},
   "outputs": [
    {
     "name": "stdout",
     "output_type": "stream",
     "text": [
      "Populating the interactive namespace from numpy and matplotlib\n"
     ]
    }
   ],
   "source": [
    "import matplotlib.pyplot as plt\n",
    "from matplotlib import style\n",
    "style.use('fivethirtyeight')\n",
    "%matplotlib inline\n",
    "%pylab inline"
   ]
  },
  {
   "cell_type": "code",
   "execution_count": 66,
   "metadata": {},
   "outputs": [
    {
     "data": {
      "image/png": "[encoded data removed]",
      "text/plain": [
       "<Figure size 432x288 with 1 Axes>"
      ]
     },
     "metadata": {
      "needs_background": "light"
     },
     "output_type": "display_data"
    }
   ],
   "source": [
    "def plot_hist(feature, bins=20):\n",
    "    x1 = np.array(dead[feature])\n",
    "    x2 = np.array(survived[feature])\n",
    "    plt.hist([x1, x2], label=[\"Victime\", \"Survivant\"], bins=bins, color=['r', 'b'])\n",
    "    plt.legend(loc=\"upper left\")\n",
    "    plt.title('distribution relative de %s' %feature)\n",
    "    plt.show()\n",
    "plot_hist('Pclass')"
   ]
  },
  {
   "cell_type": "markdown",
   "metadata": {},
   "source": [
    "## Transtyper les colonnes et dummies"
   ]
  },
  {
   "cell_type": "code",
   "execution_count": 70,
   "metadata": {},
   "outputs": [
    {
     "data": {
      "text/plain": [
       "Pclass    int64\n",
       "dtype: object"
      ]
     },
     "execution_count": 70,
     "metadata": {},
     "output_type": "execute_result"
    }
   ],
   "source": [
    "Pclasse = data_without_na[[\"Pclass\"]]\n",
    "Pclasse.dtypes"
   ]
  },
  {
   "cell_type": "code",
   "execution_count": 71,
   "metadata": {},
   "outputs": [
    {
     "data": {
      "text/plain": [
       "Pclass    object\n",
       "dtype: object"
      ]
     },
     "execution_count": 71,
     "metadata": {},
     "output_type": "execute_result"
    }
   ],
   "source": [
    "def float_Str ( Data_str, feature) :\n",
    "    Data_str[feature] =  Data_str[feature].astype(str)\n",
    "    return(Data_str)\n",
    "\n",
    "Pclass = float_Str( Pclasse,'Pclass')\n",
    "Pclass.dtypes"
   ]
  },
  {
   "cell_type": "code",
   "execution_count": 77,
   "metadata": {},
   "outputs": [
    {
     "data": {
      "text/html": [
       "<div>\n",
       "<style scoped>\n",
       "    .dataframe tbody tr th:only-of-type {\n",
       "        vertical-align: middle;\n",
       "    }\n",
       "\n",
       "    .dataframe tbody tr th {\n",
       "        vertical-align: top;\n",
       "    }\n",
       "\n",
       "    .dataframe thead th {\n",
       "        text-align: right;\n",
       "    }\n",
       "</style>\n",
       "<table border=\"1\" class=\"dataframe\">\n",
       "  <thead>\n",
       "    <tr style=\"text-align: right;\">\n",
       "      <th></th>\n",
       "      <th>Pclass__1</th>\n",
       "      <th>Pclass__2</th>\n",
       "      <th>Pclass__3</th>\n",
       "    </tr>\n",
       "    <tr>\n",
       "      <th>PassengerId</th>\n",
       "      <th></th>\n",
       "      <th></th>\n",
       "      <th></th>\n",
       "    </tr>\n",
       "  </thead>\n",
       "  <tbody>\n",
       "    <tr>\n",
       "      <th>1</th>\n",
       "      <td>0</td>\n",
       "      <td>0</td>\n",
       "      <td>1</td>\n",
       "    </tr>\n",
       "    <tr>\n",
       "      <th>2</th>\n",
       "      <td>1</td>\n",
       "      <td>0</td>\n",
       "      <td>0</td>\n",
       "    </tr>\n",
       "    <tr>\n",
       "      <th>3</th>\n",
       "      <td>0</td>\n",
       "      <td>0</td>\n",
       "      <td>1</td>\n",
       "    </tr>\n",
       "    <tr>\n",
       "      <th>4</th>\n",
       "      <td>1</td>\n",
       "      <td>0</td>\n",
       "      <td>0</td>\n",
       "    </tr>\n",
       "    <tr>\n",
       "      <th>5</th>\n",
       "      <td>0</td>\n",
       "      <td>0</td>\n",
       "      <td>1</td>\n",
       "    </tr>\n",
       "  </tbody>\n",
       "</table>\n",
       "</div>"
      ],
      "text/plain": [
       "             Pclass__1  Pclass__2  Pclass__3\n",
       "PassengerId                                 \n",
       "1                    0          0          1\n",
       "2                    1          0          0\n",
       "3                    0          0          1\n",
       "4                    1          0          0\n",
       "5                    0          0          1"
      ]
     },
     "execution_count": 77,
     "metadata": {},
     "output_type": "execute_result"
    }
   ],
   "source": [
    "X_dummies = pd.get_dummies(Pclass ,drop_first=False, dummy_na=False, prefix_sep='__')\n",
    "X_dummies.head()"
   ]
  },
  {
   "cell_type": "code",
   "execution_count": 74,
   "metadata": {},
   "outputs": [],
   "source": [
    "X['Pclass1'] = X_dummies[\"Pclass__1\"]\n",
    "X['Pclass2'] = X_dummies[\"Pclass__2\"]\n",
    "X['Pclass3'] = X_dummies[\"Pclass__3\"]"
   ]
  },
  {
   "cell_type": "markdown",
   "metadata": {},
   "source": [
    "## Modèle2 avec la variable Pclass"
   ]
  },
  {
   "cell_type": "code",
   "execution_count": 82,
   "metadata": {},
   "outputs": [],
   "source": [
    "X_train, X_test,y_train, y_test = train_test_split(X, y, test_size=0.2, random_state=42)\n",
    "\n",
    "model = linear_model.LogisticRegression(random_state= 42)\n",
    "model.fit(X_train, y_train)\n",
    "# Run the model\n",
    "y_pred = model.predict(X_test)\n",
    "y_prob = model.predict_proba(X_test)[:,1]\n",
    "    "
   ]
  },
  {
   "cell_type": "code",
   "execution_count": 86,
   "metadata": {},
   "outputs": [
    {
     "name": "stdout",
     "output_type": "stream",
     "text": [
      "le score d'entrainement: 69.52%\n"
     ]
    }
   ],
   "source": [
    "## Score\n",
    "from sklearn import metrics\n",
    "score = model.score(X_train, y_train)\n",
    "print(\"le score d'entrainement: {:0.2%}\".format(score))"
   ]
  },
  {
   "cell_type": "code",
   "execution_count": 87,
   "metadata": {},
   "outputs": [
    {
     "name": "stdout",
     "output_type": "stream",
     "text": [
      "le score en test: 73.18%\n"
     ]
    }
   ],
   "source": [
    "# Score test \n",
    "score =model.score(X_test, y_test)\n",
    "print(\"le score en test: {:0.2%}\".format(score))"
   ]
  },
  {
   "cell_type": "markdown",
   "metadata": {},
   "source": [
    "## Variable Age"
   ]
  },
  {
   "cell_type": "markdown",
   "metadata": {},
   "source": [
    "**Distribution de Age** par rapport a la varaiable cible"
   ]
  },
  {
   "cell_type": "code",
   "execution_count": 88,
   "metadata": {
    "scrolled": true
   },
   "outputs": [
    {
     "data": {
      "text/html": [
       "<div>\n",
       "<style scoped>\n",
       "    .dataframe tbody tr th:only-of-type {\n",
       "        vertical-align: middle;\n",
       "    }\n",
       "\n",
       "    .dataframe tbody tr th {\n",
       "        vertical-align: top;\n",
       "    }\n",
       "\n",
       "    .dataframe thead th {\n",
       "        text-align: right;\n",
       "    }\n",
       "</style>\n",
       "<table border=\"1\" class=\"dataframe\">\n",
       "  <thead>\n",
       "    <tr style=\"text-align: right;\">\n",
       "      <th></th>\n",
       "      <th>Age</th>\n",
       "    </tr>\n",
       "  </thead>\n",
       "  <tbody>\n",
       "    <tr>\n",
       "      <th>count</th>\n",
       "      <td>891.000000</td>\n",
       "    </tr>\n",
       "    <tr>\n",
       "      <th>mean</th>\n",
       "      <td>29.361582</td>\n",
       "    </tr>\n",
       "    <tr>\n",
       "      <th>std</th>\n",
       "      <td>13.019697</td>\n",
       "    </tr>\n",
       "    <tr>\n",
       "      <th>min</th>\n",
       "      <td>0.420000</td>\n",
       "    </tr>\n",
       "    <tr>\n",
       "      <th>25%</th>\n",
       "      <td>22.000000</td>\n",
       "    </tr>\n",
       "    <tr>\n",
       "      <th>50%</th>\n",
       "      <td>28.000000</td>\n",
       "    </tr>\n",
       "    <tr>\n",
       "      <th>75%</th>\n",
       "      <td>35.000000</td>\n",
       "    </tr>\n",
       "    <tr>\n",
       "      <th>max</th>\n",
       "      <td>80.000000</td>\n",
       "    </tr>\n",
       "  </tbody>\n",
       "</table>\n",
       "</div>"
      ],
      "text/plain": [
       "              Age\n",
       "count  891.000000\n",
       "mean    29.361582\n",
       "std     13.019697\n",
       "min      0.420000\n",
       "25%     22.000000\n",
       "50%     28.000000\n",
       "75%     35.000000\n",
       "max     80.000000"
      ]
     },
     "execution_count": 88,
     "metadata": {},
     "output_type": "execute_result"
    }
   ],
   "source": [
    "data_train[[\"Age\"]].describe()"
   ]
  },
  {
   "cell_type": "code",
   "execution_count": 89,
   "metadata": {},
   "outputs": [],
   "source": [
    "def PlotHist(X1, X2, feature) :\n",
    "    # plot histograms\n",
    "    x1 = np.array(X1[feature].dropna())\n",
    "    x2 = np.array(X2[feature].dropna())\n",
    "    plt.hist([x1, x2], label=[\"Survivant\", \"Victime\"], bins=18, color=['b', 'r'])\n",
    "       \n",
    "    # add title and legend to the plot\n",
    "    plt.title(\"Distribution des survivant par %s\" %feature )\n",
    "    plt.legend(loc=\"upper left\")\n",
    "    plt.legend()\n",
    "    plt.show()"
   ]
  },
  {
   "cell_type": "code",
   "execution_count": 90,
   "metadata": {},
   "outputs": [
    {
     "data": {
      "image/png": "[encoded data removed]",
      "text/plain": [
       "<Figure size 432x288 with 1 Axes>"
      ]
     },
     "metadata": {
      "needs_background": "light"
     },
     "output_type": "display_data"
    }
   ],
   "source": [
    "PlotHist(Survived, Not_Survived, \"Age\")"
   ]
  },
  {
   "cell_type": "markdown",
   "metadata": {},
   "source": [
    "### Segmentation de Age \n",
    "\n",
    "On observe que les individus de moins de 10 ans sont  en majeur partie des survivant et ceux de plus de 10 ans sont des victimes. D'ou une discrimination de l'Age à 10 ans. \n"
   ]
  },
  {
   "cell_type": "code",
   "execution_count": 91,
   "metadata": {},
   "outputs": [
    {
     "data": {
      "text/plain": [
       "PassengerId\n",
       "1     1\n",
       "2     1\n",
       "3     1\n",
       "4     1\n",
       "5     1\n",
       "6     1\n",
       "7     1\n",
       "8     0\n",
       "9     1\n",
       "10    1\n",
       "Name: Age, dtype: int64"
      ]
     },
     "execution_count": 91,
     "metadata": {},
     "output_type": "execute_result"
    }
   ],
   "source": [
    " def Segment_Age(classe, data) :\n",
    "        data =  data.Age.apply(lambda x : classe[0] if x < 10 else classe[1])\n",
    "        #return(pd.DataFrame(data))\n",
    "        return(data)\n",
    "    \n",
    "\n",
    "Classe_Age = Segment_Age(classe = [0, 1], data = data_without_na[[\"Age\"]])\n",
    "Classe_Age.head(10)"
   ]
  },
  {
   "cell_type": "markdown",
   "metadata": {},
   "source": [
    "## Model 3 : En prenant en compte la variable Age."
   ]
  },
  {
   "cell_type": "code",
   "execution_count": 100,
   "metadata": {},
   "outputs": [],
   "source": [
    "X[\"age\"]= Classe_Age"
   ]
  },
  {
   "cell_type": "code",
   "execution_count": 103,
   "metadata": {},
   "outputs": [
    {
     "name": "stdout",
     "output_type": "stream",
     "text": [
      "le score d'entrainement: 71.35%\n",
      "le score en test: 71.51%\n"
     ]
    }
   ],
   "source": [
    "X_train, X_test,y_train, y_test = train_test_split(X, y, test_size=0.2, random_state=42)\n",
    "\n",
    "model = linear_model.LogisticRegression(random_state= 42)\n",
    "model.fit(X_train, y_train)\n",
    "# Run the model\n",
    "y_pred = model.predict(X_test)\n",
    "y_prob = model.predict_proba(X_test)[:,1]\n",
    "\n",
    "## Score\n",
    "from sklearn import metrics\n",
    "score = model.score(X_train, y_train)\n",
    "print(\"le score d'entrainement: {:0.2%}\".format(score))\n",
    "# Score test \n",
    "score =model.score(X_test, y_test)\n",
    "print(\"le score en test: {:0.2%}\".format(score))"
   ]
  },
  {
   "cell_type": "code",
   "execution_count": 124,
   "metadata": {},
   "outputs": [],
   "source": [
    "titre = data_without_na['Name'].apply(lambda x: x.split(',')[1].split('.')[0])"
   ]
  },
  {
   "cell_type": "code",
   "execution_count": 125,
   "metadata": {},
   "outputs": [
    {
     "data": {
      "text/plain": [
       "PassengerId\n",
       "1         Mr\n",
       "2        Mrs\n",
       "3       Miss\n",
       "4        Mrs\n",
       "5         Mr\n",
       "       ...  \n",
       "887      Rev\n",
       "888     Miss\n",
       "889     Miss\n",
       "890       Mr\n",
       "891       Mr\n",
       "Name: Name, Length: 891, dtype: object"
      ]
     },
     "execution_count": 125,
     "metadata": {},
     "output_type": "execute_result"
    }
   ],
   "source": [
    "train_test_data = [data_without_na, test] # combining train and test dataset\n",
    "\n",
    "for dataset in train_test_data:\n",
    "    dataset['Title'] = dataset['Name'].str.extract(' ([A-Za-z]+)\\.', expand=False)"
   ]
  },
  {
   "cell_type": "code",
   "execution_count": null,
   "metadata": {},
   "outputs": [],
   "source": []
  },
  {
   "cell_type": "markdown",
   "metadata": {},
   "source": [
    "## Random Forest"
   ]
  },
  {
   "cell_type": "markdown",
   "metadata": {},
   "source": [
    "### Prepartion data"
   ]
  },
  {
   "cell_type": "code",
   "execution_count": 159,
   "metadata": {},
   "outputs": [],
   "source": [
    "#Imputer les na de cabin et Embarked par -1 et les na de Age par sa mediane\n",
    "X = Imput_ValeurManquate(data_train, [\"Age\"], [\"Cabin\", \"Embarked\"], Imput_Cat=str(-1) )\n",
    "assert list(X.isnull().sum()) == [0]*X.shape[1]\n"
   ]
  },
  {
   "cell_type": "code",
   "execution_count": null,
   "metadata": {},
   "outputs": [],
   "source": []
  },
  {
   "cell_type": "code",
   "execution_count": 160,
   "metadata": {},
   "outputs": [
    {
     "data": {
      "text/html": [
       "<div>\n",
       "<style scoped>\n",
       "    .dataframe tbody tr th:only-of-type {\n",
       "        vertical-align: middle;\n",
       "    }\n",
       "\n",
       "    .dataframe tbody tr th {\n",
       "        vertical-align: top;\n",
       "    }\n",
       "\n",
       "    .dataframe thead th {\n",
       "        text-align: right;\n",
       "    }\n",
       "</style>\n",
       "<table border=\"1\" class=\"dataframe\">\n",
       "  <thead>\n",
       "    <tr style=\"text-align: right;\">\n",
       "      <th></th>\n",
       "      <th>SibSp</th>\n",
       "      <th>Age</th>\n",
       "      <th>Fare</th>\n",
       "      <th>Pclass</th>\n",
       "      <th>Parch</th>\n",
       "      <th>Cabin</th>\n",
       "      <th>Embarked</th>\n",
       "    </tr>\n",
       "    <tr>\n",
       "      <th>PassengerId</th>\n",
       "      <th></th>\n",
       "      <th></th>\n",
       "      <th></th>\n",
       "      <th></th>\n",
       "      <th></th>\n",
       "      <th></th>\n",
       "      <th></th>\n",
       "    </tr>\n",
       "  </thead>\n",
       "  <tbody>\n",
       "    <tr>\n",
       "      <th>1</th>\n",
       "      <td>1</td>\n",
       "      <td>22.0</td>\n",
       "      <td>7.2500</td>\n",
       "      <td>3</td>\n",
       "      <td>0</td>\n",
       "      <td>-1</td>\n",
       "      <td>S</td>\n",
       "    </tr>\n",
       "    <tr>\n",
       "      <th>2</th>\n",
       "      <td>1</td>\n",
       "      <td>38.0</td>\n",
       "      <td>71.2833</td>\n",
       "      <td>1</td>\n",
       "      <td>0</td>\n",
       "      <td>C85</td>\n",
       "      <td>C</td>\n",
       "    </tr>\n",
       "    <tr>\n",
       "      <th>3</th>\n",
       "      <td>0</td>\n",
       "      <td>26.0</td>\n",
       "      <td>7.9250</td>\n",
       "      <td>3</td>\n",
       "      <td>0</td>\n",
       "      <td>-1</td>\n",
       "      <td>S</td>\n",
       "    </tr>\n",
       "    <tr>\n",
       "      <th>4</th>\n",
       "      <td>1</td>\n",
       "      <td>35.0</td>\n",
       "      <td>53.1000</td>\n",
       "      <td>1</td>\n",
       "      <td>0</td>\n",
       "      <td>C123</td>\n",
       "      <td>S</td>\n",
       "    </tr>\n",
       "    <tr>\n",
       "      <th>5</th>\n",
       "      <td>0</td>\n",
       "      <td>35.0</td>\n",
       "      <td>8.0500</td>\n",
       "      <td>3</td>\n",
       "      <td>0</td>\n",
       "      <td>-1</td>\n",
       "      <td>S</td>\n",
       "    </tr>\n",
       "  </tbody>\n",
       "</table>\n",
       "</div>"
      ],
      "text/plain": [
       "             SibSp   Age     Fare  Pclass  Parch Cabin Embarked\n",
       "PassengerId                                                    \n",
       "1                1  22.0   7.2500       3      0    -1        S\n",
       "2                1  38.0  71.2833       1      0   C85        C\n",
       "3                0  26.0   7.9250       3      0    -1        S\n",
       "4                1  35.0  53.1000       1      0  C123        S\n",
       "5                0  35.0   8.0500       3      0    -1        S"
      ]
     },
     "execution_count": 160,
     "metadata": {},
     "output_type": "execute_result"
    }
   ],
   "source": [
    "#Train : Choix des variables\n",
    "feature = ['SibSp', \"Age\",'Fare', 'Pclass', 'Parch' ,\"Cabin\", \"Embarked\"]\n",
    "Data= X\n",
    "Label = \"Survived\"\n",
    "X, y = DataModel (feature, Data, Label)\n",
    "X.head() "
   ]
  },
  {
   "cell_type": "code",
   "execution_count": 161,
   "metadata": {},
   "outputs": [],
   "source": [
    "#Feature Engeneering\n",
    "#Transformation de variable Categorielle en Variable numerique correspondant a leurs frequences\n",
    "def Var_cat_num (df, col_cat) :\n",
    "    X = df\n",
    "    for col in col_cat :\n",
    "        modalite_var = X[col]\n",
    "        replace = dict(modalite_var.value_counts(normalize = True) )\n",
    "        modalite_var = list(X[col])\n",
    "        for modalite in modalite_var :\n",
    "            modalite_var[modalite_var.index(modalite)]= replace[modalite]\n",
    "        X[col] = pd.Series(modalite_var)    \n",
    "    return (X)   "
   ]
  },
  {
   "cell_type": "code",
   "execution_count": 162,
   "metadata": {},
   "outputs": [
    {
     "data": {
      "text/html": [
       "<div>\n",
       "<style scoped>\n",
       "    .dataframe tbody tr th:only-of-type {\n",
       "        vertical-align: middle;\n",
       "    }\n",
       "\n",
       "    .dataframe tbody tr th {\n",
       "        vertical-align: top;\n",
       "    }\n",
       "\n",
       "    .dataframe thead th {\n",
       "        text-align: right;\n",
       "    }\n",
       "</style>\n",
       "<table border=\"1\" class=\"dataframe\">\n",
       "  <thead>\n",
       "    <tr style=\"text-align: right;\">\n",
       "      <th></th>\n",
       "      <th>SibSp</th>\n",
       "      <th>Age</th>\n",
       "      <th>Fare</th>\n",
       "      <th>Pclass</th>\n",
       "      <th>Parch</th>\n",
       "      <th>Cabin</th>\n",
       "      <th>Embarked</th>\n",
       "    </tr>\n",
       "    <tr>\n",
       "      <th>PassengerId</th>\n",
       "      <th></th>\n",
       "      <th></th>\n",
       "      <th></th>\n",
       "      <th></th>\n",
       "      <th></th>\n",
       "      <th></th>\n",
       "      <th></th>\n",
       "    </tr>\n",
       "  </thead>\n",
       "  <tbody>\n",
       "    <tr>\n",
       "      <th>886</th>\n",
       "      <td>0</td>\n",
       "      <td>39.0</td>\n",
       "      <td>29.125</td>\n",
       "      <td>3</td>\n",
       "      <td>5</td>\n",
       "      <td>0.771044</td>\n",
       "      <td>0.722783</td>\n",
       "    </tr>\n",
       "    <tr>\n",
       "      <th>887</th>\n",
       "      <td>0</td>\n",
       "      <td>27.0</td>\n",
       "      <td>13.000</td>\n",
       "      <td>2</td>\n",
       "      <td>0</td>\n",
       "      <td>0.001122</td>\n",
       "      <td>0.722783</td>\n",
       "    </tr>\n",
       "    <tr>\n",
       "      <th>888</th>\n",
       "      <td>0</td>\n",
       "      <td>19.0</td>\n",
       "      <td>30.000</td>\n",
       "      <td>1</td>\n",
       "      <td>0</td>\n",
       "      <td>0.771044</td>\n",
       "      <td>0.722783</td>\n",
       "    </tr>\n",
       "    <tr>\n",
       "      <th>889</th>\n",
       "      <td>1</td>\n",
       "      <td>28.0</td>\n",
       "      <td>23.450</td>\n",
       "      <td>3</td>\n",
       "      <td>2</td>\n",
       "      <td>0.001122</td>\n",
       "      <td>0.188552</td>\n",
       "    </tr>\n",
       "    <tr>\n",
       "      <th>890</th>\n",
       "      <td>0</td>\n",
       "      <td>26.0</td>\n",
       "      <td>30.000</td>\n",
       "      <td>1</td>\n",
       "      <td>0</td>\n",
       "      <td>0.771044</td>\n",
       "      <td>0.086420</td>\n",
       "    </tr>\n",
       "  </tbody>\n",
       "</table>\n",
       "</div>"
      ],
      "text/plain": [
       "             SibSp   Age    Fare  Pclass  Parch     Cabin  Embarked\n",
       "PassengerId                                                        \n",
       "886              0  39.0  29.125       3      5  0.771044  0.722783\n",
       "887              0  27.0  13.000       2      0  0.001122  0.722783\n",
       "888              0  19.0  30.000       1      0  0.771044  0.722783\n",
       "889              1  28.0  23.450       3      2  0.001122  0.188552\n",
       "890              0  26.0  30.000       1      0  0.771044  0.086420"
      ]
     },
     "execution_count": 162,
     "metadata": {},
     "output_type": "execute_result"
    }
   ],
   "source": [
    "X = Var_cat_num(X, [\"Cabin\", \"Embarked\"])\n",
    "X = X.dropna()\n",
    "y = y[0:len(list(y))-1]\n",
    "X.tail()"
   ]
  },
  {
   "cell_type": "code",
   "execution_count": 163,
   "metadata": {},
   "outputs": [
    {
     "data": {
      "text/html": [
       "<div>\n",
       "<style scoped>\n",
       "    .dataframe tbody tr th:only-of-type {\n",
       "        vertical-align: middle;\n",
       "    }\n",
       "\n",
       "    .dataframe tbody tr th {\n",
       "        vertical-align: top;\n",
       "    }\n",
       "\n",
       "    .dataframe thead th {\n",
       "        text-align: right;\n",
       "    }\n",
       "</style>\n",
       "<table border=\"1\" class=\"dataframe\">\n",
       "  <thead>\n",
       "    <tr style=\"text-align: right;\">\n",
       "      <th></th>\n",
       "      <th>SibSp</th>\n",
       "      <th>Age</th>\n",
       "      <th>Fare</th>\n",
       "      <th>Parch</th>\n",
       "      <th>Cabin</th>\n",
       "      <th>Embarked</th>\n",
       "      <th>Pclass1</th>\n",
       "      <th>Pclass2</th>\n",
       "      <th>Pclass3</th>\n",
       "    </tr>\n",
       "    <tr>\n",
       "      <th>PassengerId</th>\n",
       "      <th></th>\n",
       "      <th></th>\n",
       "      <th></th>\n",
       "      <th></th>\n",
       "      <th></th>\n",
       "      <th></th>\n",
       "      <th></th>\n",
       "      <th></th>\n",
       "      <th></th>\n",
       "    </tr>\n",
       "  </thead>\n",
       "  <tbody>\n",
       "    <tr>\n",
       "      <th>1</th>\n",
       "      <td>1</td>\n",
       "      <td>1</td>\n",
       "      <td>7.2500</td>\n",
       "      <td>0</td>\n",
       "      <td>0.001122</td>\n",
       "      <td>0.188552</td>\n",
       "      <td>0</td>\n",
       "      <td>0</td>\n",
       "      <td>1</td>\n",
       "    </tr>\n",
       "    <tr>\n",
       "      <th>2</th>\n",
       "      <td>1</td>\n",
       "      <td>1</td>\n",
       "      <td>71.2833</td>\n",
       "      <td>0</td>\n",
       "      <td>0.771044</td>\n",
       "      <td>0.722783</td>\n",
       "      <td>1</td>\n",
       "      <td>0</td>\n",
       "      <td>0</td>\n",
       "    </tr>\n",
       "    <tr>\n",
       "      <th>3</th>\n",
       "      <td>0</td>\n",
       "      <td>1</td>\n",
       "      <td>7.9250</td>\n",
       "      <td>0</td>\n",
       "      <td>0.002245</td>\n",
       "      <td>0.722783</td>\n",
       "      <td>0</td>\n",
       "      <td>0</td>\n",
       "      <td>1</td>\n",
       "    </tr>\n",
       "    <tr>\n",
       "      <th>4</th>\n",
       "      <td>1</td>\n",
       "      <td>1</td>\n",
       "      <td>53.1000</td>\n",
       "      <td>0</td>\n",
       "      <td>0.771044</td>\n",
       "      <td>0.722783</td>\n",
       "      <td>1</td>\n",
       "      <td>0</td>\n",
       "      <td>0</td>\n",
       "    </tr>\n",
       "    <tr>\n",
       "      <th>5</th>\n",
       "      <td>0</td>\n",
       "      <td>1</td>\n",
       "      <td>8.0500</td>\n",
       "      <td>0</td>\n",
       "      <td>0.771044</td>\n",
       "      <td>0.086420</td>\n",
       "      <td>0</td>\n",
       "      <td>0</td>\n",
       "      <td>1</td>\n",
       "    </tr>\n",
       "    <tr>\n",
       "      <th>6</th>\n",
       "      <td>0</td>\n",
       "      <td>1</td>\n",
       "      <td>8.4583</td>\n",
       "      <td>0</td>\n",
       "      <td>0.001122</td>\n",
       "      <td>0.722783</td>\n",
       "      <td>0</td>\n",
       "      <td>0</td>\n",
       "      <td>1</td>\n",
       "    </tr>\n",
       "    <tr>\n",
       "      <th>7</th>\n",
       "      <td>0</td>\n",
       "      <td>1</td>\n",
       "      <td>51.8625</td>\n",
       "      <td>0</td>\n",
       "      <td>0.771044</td>\n",
       "      <td>0.722783</td>\n",
       "      <td>1</td>\n",
       "      <td>0</td>\n",
       "      <td>0</td>\n",
       "    </tr>\n",
       "    <tr>\n",
       "      <th>8</th>\n",
       "      <td>3</td>\n",
       "      <td>0</td>\n",
       "      <td>21.0750</td>\n",
       "      <td>1</td>\n",
       "      <td>0.771044</td>\n",
       "      <td>0.722783</td>\n",
       "      <td>0</td>\n",
       "      <td>0</td>\n",
       "      <td>1</td>\n",
       "    </tr>\n",
       "    <tr>\n",
       "      <th>9</th>\n",
       "      <td>0</td>\n",
       "      <td>1</td>\n",
       "      <td>11.1333</td>\n",
       "      <td>2</td>\n",
       "      <td>0.771044</td>\n",
       "      <td>0.188552</td>\n",
       "      <td>0</td>\n",
       "      <td>0</td>\n",
       "      <td>1</td>\n",
       "    </tr>\n",
       "    <tr>\n",
       "      <th>10</th>\n",
       "      <td>1</td>\n",
       "      <td>1</td>\n",
       "      <td>30.0708</td>\n",
       "      <td>0</td>\n",
       "      <td>0.004489</td>\n",
       "      <td>0.722783</td>\n",
       "      <td>0</td>\n",
       "      <td>1</td>\n",
       "      <td>0</td>\n",
       "    </tr>\n",
       "  </tbody>\n",
       "</table>\n",
       "</div>"
      ],
      "text/plain": [
       "             SibSp  Age     Fare  Parch     Cabin  Embarked  Pclass1  Pclass2  \\\n",
       "PassengerId                                                                     \n",
       "1                1    1   7.2500      0  0.001122  0.188552        0        0   \n",
       "2                1    1  71.2833      0  0.771044  0.722783        1        0   \n",
       "3                0    1   7.9250      0  0.002245  0.722783        0        0   \n",
       "4                1    1  53.1000      0  0.771044  0.722783        1        0   \n",
       "5                0    1   8.0500      0  0.771044  0.086420        0        0   \n",
       "6                0    1   8.4583      0  0.001122  0.722783        0        0   \n",
       "7                0    1  51.8625      0  0.771044  0.722783        1        0   \n",
       "8                3    0  21.0750      1  0.771044  0.722783        0        0   \n",
       "9                0    1  11.1333      2  0.771044  0.188552        0        0   \n",
       "10               1    1  30.0708      0  0.004489  0.722783        0        1   \n",
       "\n",
       "             Pclass3  \n",
       "PassengerId           \n",
       "1                  1  \n",
       "2                  0  \n",
       "3                  1  \n",
       "4                  0  \n",
       "5                  1  \n",
       "6                  1  \n",
       "7                  0  \n",
       "8                  1  \n",
       "9                  1  \n",
       "10                 0  "
      ]
     },
     "execution_count": 163,
     "metadata": {},
     "output_type": "execute_result"
    }
   ],
   "source": [
    "#TCodage dijonctif de Pclass en retenat les classe 1 et 3\n",
    "X['Age'] = Segment_Age(classe = [0, 1], data = X[[\"Age\"]])\n",
    "del X[\"Pclass\"]\n",
    "X['Pclass1'] = X_dummies[\"Pclass__1\"]\n",
    "X['Pclass2'] = X_dummies[\"Pclass__2\"]\n",
    "X['Pclass3'] = X_dummies[\"Pclass__3\"]\n",
    "X.head(10)"
   ]
  },
  {
   "cell_type": "markdown",
   "metadata": {},
   "source": [
    "## **Model 1** : Random Forest Standard"
   ]
  },
  {
   "cell_type": "code",
   "execution_count": 164,
   "metadata": {},
   "outputs": [],
   "source": [
    " \n",
    "X_train, X_test,y_train, y_test = train_test_split(X, y, \n",
    "                                                    test_size=0.33, random_state=11)"
   ]
  },
  {
   "cell_type": "code",
   "execution_count": 165,
   "metadata": {},
   "outputs": [
    {
     "data": {
      "text/plain": [
       "RandomForestClassifier(criterion='entropy', max_depth=20, random_state=42)"
      ]
     },
     "execution_count": 165,
     "metadata": {},
     "output_type": "execute_result"
    }
   ],
   "source": [
    "## Create the model object and fit the model\n",
    "from sklearn.ensemble import RandomForestClassifier\n",
    "\n",
    "model = RandomForestClassifier(random_state=42, n_estimators=100, \n",
    "                               criterion=\"entropy\", max_depth=20 ) \n",
    "                              \n",
    "model.fit(X_train, y_train)\n"
   ]
  },
  {
   "cell_type": "code",
   "execution_count": 166,
   "metadata": {},
   "outputs": [
    {
     "name": "stdout",
     "output_type": "stream",
     "text": [
      "In-test score: 69.05%\n"
     ]
    }
   ],
   "source": [
    "## Get an initial score\n",
    "score = model.score(X_test, y_test)\n",
    "# print the model score\n",
    "print(\"In-test score: {:0.2%}\".format(score))"
   ]
  },
  {
   "cell_type": "code",
   "execution_count": null,
   "metadata": {},
   "outputs": [],
   "source": []
  },
  {
   "cell_type": "markdown",
   "metadata": {},
   "source": [
    "## Model 2 : Changer les parmetors pour améliorer le score"
   ]
  },
  {
   "cell_type": "code",
   "execution_count": 50,
   "metadata": {},
   "outputs": [
    {
     "name": "stdout",
     "output_type": "stream",
     "text": [
      "In-test score: 73.13%\n"
     ]
    }
   ],
   "source": [
    "#Model\n",
    "RANDOM_STATE =42\n",
    "from sklearn.ensemble import RandomForestClassifier\n",
    "model = RandomForestClassifier(n_estimators=100, \n",
    "                               max_depth=20, \n",
    "                               min_samples_leaf=5, \n",
    "                               min_samples_split=5, \n",
    "                               random_state=RANDOM_STATE)\n",
    "model.fit(X_train, y_train)\n",
    "\n",
    "score = model.score(X_test, y_test)\n",
    "print(\"In-test score: {:0.2%}\".format(score))"
   ]
  },
  {
   "cell_type": "markdown",
   "metadata": {},
   "source": [
    "## **Model 3 :** Grid Search to give the best model and parametors"
   ]
  },
  {
   "cell_type": "code",
   "execution_count": 167,
   "metadata": {},
   "outputs": [],
   "source": [
    "from sklearn.ensemble import RandomForestClassifier"
   ]
  },
  {
   "cell_type": "code",
   "execution_count": 168,
   "metadata": {},
   "outputs": [
    {
     "name": "stdout",
     "output_type": "stream",
     "text": [
      "Fitting 5 folds for each of 300 candidates, totalling 1500 fits\n"
     ]
    },
    {
     "name": "stderr",
     "output_type": "stream",
     "text": [
      "[Parallel(n_jobs=-1)]: Using backend LokyBackend with 4 concurrent workers.\n",
      "[Parallel(n_jobs=-1)]: Done  42 tasks      | elapsed:    8.7s\n",
      "[Parallel(n_jobs=-1)]: Done 192 tasks      | elapsed:   34.5s\n",
      "[Parallel(n_jobs=-1)]: Done 442 tasks      | elapsed:  1.2min\n",
      "[Parallel(n_jobs=-1)]: Done 792 tasks      | elapsed:  2.1min\n",
      "[Parallel(n_jobs=-1)]: Done 1242 tasks      | elapsed:  3.3min\n",
      "[Parallel(n_jobs=-1)]: Done 1500 out of 1500 | elapsed:  4.0min finished\n"
     ]
    },
    {
     "data": {
      "text/plain": [
       "GridSearchCV(cv=5, estimator=RandomForestClassifier(random_state=42), n_jobs=-1,\n",
       "             param_grid={'max_depth': array([ 6,  8, 10, 12, 14]),\n",
       "                         'min_samples_leaf': array([ 5, 10, 15]),\n",
       "                         'min_samples_split': array([10, 15, 20, 25]),\n",
       "                         'n_estimators': [100, 150, 200, 250, 300]},\n",
       "             verbose=1)"
      ]
     },
     "execution_count": 168,
     "metadata": {},
     "output_type": "execute_result"
    }
   ],
   "source": [
    "## import the GridSearchCV object\n",
    "from sklearn.model_selection import GridSearchCV\n",
    "\n",
    "## Create the estimator to be passed into GridSearchCV\n",
    "estimator = RandomForestClassifier(random_state=42)\n",
    "\n",
    "parameters = {\n",
    "    'n_estimators': [100, 150, 200,250,300],\n",
    "    'max_depth': np.arange(6,16,2), \n",
    "    'min_samples_split': np.arange(10,30,5),\n",
    "    'min_samples_leaf': np.arange(5,20,5),\n",
    "}\n",
    "\n",
    "model = GridSearchCV(estimator, parameters, verbose=1, cv=5, n_jobs=-1)\n",
    "model.fit(X_train, y_train)"
   ]
  },
  {
   "cell_type": "code",
   "execution_count": 169,
   "metadata": {},
   "outputs": [
    {
     "name": "stdout",
     "output_type": "stream",
     "text": [
      "les Parametres du meilleurs model sont :\n",
      "RandomForestClassifier(max_depth=6, min_samples_leaf=5, min_samples_split=15,\n",
      "                       n_estimators=150, random_state=42)\n",
      "\n",
      "\n",
      "In-test score of best model RandonForest: 73.13%\n"
     ]
    }
   ],
   "source": [
    "score = model.score(X_test, y_test)\n",
    "print(\"les Parametres du meilleurs model sont :\")\n",
    "print(model.best_estimator_)\n",
    "print(\"\\n\")\n",
    "print(\"In-test score of best model RandonForest: {:0.2%}\".format(score))"
   ]
  },
  {
   "cell_type": "markdown",
   "metadata": {},
   "source": [
    "## Best Model and deploiyement"
   ]
  },
  {
   "cell_type": "markdown",
   "metadata": {},
   "source": [
    "Le meilleur model est le RandomForest avec un score de  0.73, Il est obtenu avec les parametres suivants :\n",
    "- n_estimators =\n",
    "- max_depth = \n",
    "- min_samples_split = \n",
    "- min_samples_leaf =\n",
    "Ce Model sera construis sur toute la base Train et servira de predicteur pour de nouvelle observation."
   ]
  },
  {
   "cell_type": "code",
   "execution_count": null,
   "metadata": {},
   "outputs": [],
   "source": [
    "#Best Model on Train\n",
    "Best_Model = RandomForestClassifier()\n",
    "Best_Model.fit(X, y)"
   ]
  },
  {
   "cell_type": "code",
   "execution_count": null,
   "metadata": {},
   "outputs": [],
   "source": [
    "#Preparation du test data\n",
    "#Imputer les na de cabin et Embarked par -1 et les na de Age par sa mediane\n",
    "X = Imput_ValeurManquate(data_test, [\"Age\"], [\"Cabin\", \"Embarked\"], Imput_Cat=str(-1) )\n",
    "assert list(X.isnull().sum()) == [0]*X.shape[1]\n",
    "\n",
    "#Train : Choix des variables\n",
    "feature = ['SibSp', \"Age\",'Fare', 'Pclass', 'Parch' ,\"Cabin\", \"Embarked\"]\n",
    "Data= X\n",
    "Label = \"Survived\"\n",
    "X = DataModel (feature, Data, Label)\n",
    "\n",
    "#ransformation de variable categorielle en variabe num\n",
    "X = Var_cat_num(X, [\"Cabin\", \"Embarked\"])\n",
    "\n",
    "#Segmentation Age\n",
    "X['Age'] = Segment_Age(classe = [0, 1], data = X[[\"Age\"]])\n",
    "\n",
    "#Dummies de Pclasse\n",
    "X_dummies = pd.get_dummies(X[[\"Pclass\"]] ,drop_first=False, dummy_na=False, prefix_sep='__')\n",
    "X['Pclass3'] = X_dummies[\"Pclass__3\"]\n",
    "X['Pclass1'] = X_dummies[\"Pclass__1\"]\n",
    "del X[\"Pclass\"]\n",
    "\n",
    "#PredictProba test \n",
    "Predict_Proba = Best_Model.predict_proba()\n",
    "\n",
    "pd.DataFrame(Predict_Proba).head()\n"
   ]
  },
  {
   "cell_type": "raw",
   "metadata": {},
   "source": [
    "CONCLUSION\n",
    "----------\n",
    "\n",
    "l'etude mené nous a permis de detecter les variable importante pour le model ainsi que le meilleur model.\n",
    "Ce model devra etre deployé sur tous le train et servir en suit de predicteur pour l'ensenble test entier.,"
   ]
  }
 ],
 "metadata": {
  "kernelspec": {
   "display_name": "Python 3",
   "language": "python",
   "name": "python3"
  },
  "language_info": {
   "codemirror_mode": {
    "name": "ipython",
    "version": 3
   },
   "file_extension": ".py",
   "mimetype": "text/x-python",
   "name": "python",
   "nbconvert_exporter": "python",
   "pygments_lexer": "ipython3",
   "version": "3.8.3"
  }
 },
 "nbformat": 4,
 "nbformat_minor": 2
}
